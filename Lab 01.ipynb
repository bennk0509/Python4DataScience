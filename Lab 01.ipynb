{
 "cells": [
  {
   "cell_type": "markdown",
   "id": "803184f6",
   "metadata": {},
   "source": [
    "## Exercises 1"
   ]
  },
  {
   "cell_type": "markdown",
   "id": "ce96876e",
   "metadata": {},
   "source": [
    "Use `re.search` to find whether a string contains a phone number. The pattern that you write should detect a phone number in the following strings.  \n",
    "```\n",
    "\"Call me at 382-384-3840.\"  \n",
    "\"my number is (510) 849-3519. Call me!\"\n",
    "```  \n",
    "And not find a match in the following strings. \n",
    "```\n",
    "\"my number is 510-849-35192\"  \n",
    "\"here’s my number: 510-849.3519\"\n",
    "``` \n",
    "Consider making your own tests as well  "
   ]
  },
  {
   "cell_type": "code",
   "execution_count": 1,
   "id": "89249001",
   "metadata": {},
   "outputs": [
    {
     "name": "stdout",
     "output_type": "stream",
     "text": [
      "'Call me at 382-384-3840.' contains a phone number.\n",
      "'my number is (510) 849-3519. Call me!' contains a phone number.\n",
      "'my number is 510-849-35192' does not contain a phone number.\n",
      "'here’s my number: 510-849.3519' does not contain a phone number.\n"
     ]
    }
   ],
   "source": [
    "import re\n",
    "\n",
    "pattern = r'(?:\\d{3}-\\d{3}-\\d{4}|\\(\\d{3}\\) \\d{3}-\\d{4})\\b'\n",
    "\n",
    "strings = [\n",
    "    \"Call me at 382-384-3840.\",\n",
    "    \"my number is (510) 849-3519. Call me!\",\n",
    "    \"my number is 510-849-35192\",\n",
    "    \"here’s my number: 510-849.3519\"\n",
    "]\n",
    "\n",
    "for s in strings:\n",
    "    if re.search(pattern, s):\n",
    "        print(f\"'{s}' contains a phone number.\")\n",
    "    else:\n",
    "        print(f\"'{s}' does not contain a phone number.\")\n"
   ]
  },
  {
   "cell_type": "markdown",
   "id": "a1078e7f",
   "metadata": {},
   "source": [
    "## Exercise 2"
   ]
  },
  {
   "cell_type": "markdown",
   "id": "c0d6c3fb",
   "metadata": {},
   "source": [
    "Use `re.sub` to alter the string below so that the dates have a common format that uses a dash for the day, month, and year separator.  \n",
    "```\n",
    "03/12/2018, 03.13.18, 03/14/2018, 03:15:2018\n",
    "```"
   ]
  },
  {
   "cell_type": "code",
   "execution_count": 2,
   "id": "d70602df",
   "metadata": {},
   "outputs": [
    {
     "name": "stdout",
     "output_type": "stream",
     "text": [
      "03-12-2018\n",
      "03-13-18\n",
      "03-14-2018\n",
      "03-15-2018\n"
     ]
    }
   ],
   "source": [
    "# YOUR CODE HERE\n",
    "import re\n",
    "strings = [\n",
    "    \"03/12/2018\",\n",
    "    \"03.13.18\",\n",
    "    \"03/14/2018\",\n",
    "    \"03:15:2018\"\n",
    "]\n",
    "\n",
    "pattern = r'\\b(\\d{2})[\\/.:](\\d{2})[\\/.:](\\d{2}(?:\\d{2})?)\\b'\n",
    "\n",
    "def replace_date(match):\n",
    "    return f'{match.group(1)}-{match.group(2)}-{match.group(3)}'\n",
    "for s in strings:\n",
    "    formatString = re.sub(pattern, replace_date, s)\n",
    "    print(formatString)\n"
   ]
  },
  {
   "cell_type": "markdown",
   "id": "fa794a04",
   "metadata": {},
   "source": [
    "## Exercise 3"
   ]
  },
  {
   "cell_type": "markdown",
   "id": "ce035dd6",
   "metadata": {},
   "source": [
    "Consider the first five sentences of the novel “Little Women” below. Extract the spoken dialog from each sentence."
   ]
  },
  {
   "cell_type": "code",
   "execution_count": 3,
   "id": "997c791a",
   "metadata": {},
   "outputs": [
    {
     "name": "stdout",
     "output_type": "stream",
     "text": [
      "\n",
      "\"Christmas won't be Christmas without any presents,\" grumbled Jo, lying on the rug.\n",
      "\"It's so dreadful to be poor!\" sighed Meg, looking down at her old dress.\n",
      "\"I don't think it's fair for some girls to have plenty of pretty things, and other girls nothing at all,\" added little Amy, with an injured sniff.\n",
      "\"We've got Father and Mother, and each other,\" said Beth contentedly from her corner.\n",
      "The four young faces on which the firelight shone brightened at the cheerful words, but darkened again as Jo said sadly, \"We haven't got Father, and shall not have him for a long time.\"\n",
      "\n"
     ]
    }
   ],
   "source": [
    "text = '''\n",
    "\"Christmas won't be Christmas without any presents,\" grumbled Jo, lying on the rug.\n",
    "\"It's so dreadful to be poor!\" sighed Meg, looking down at her old dress.\n",
    "\"I don't think it's fair for some girls to have plenty of pretty things, and other girls nothing at all,\" added little Amy, with an injured sniff.\n",
    "\"We've got Father and Mother, and each other,\" said Beth contentedly from her corner.\n",
    "The four young faces on which the firelight shone brightened at the cheerful words, but darkened again as Jo said sadly, \"We haven't got Father, and shall not have him for a long time.\"\n",
    "'''\n",
    "print(text)"
   ]
  },
  {
   "cell_type": "code",
   "execution_count": 4,
   "id": "df29ef88",
   "metadata": {},
   "outputs": [
    {
     "name": "stdout",
     "output_type": "stream",
     "text": [
      "Sentence 1: Christmas won't be Christmas without any presents,\n",
      "Sentence 2: It's so dreadful to be poor!\n",
      "Sentence 3: I don't think it's fair for some girls to have plenty of pretty things, and other girls nothing at all,\n",
      "Sentence 4: We've got Father and Mother, and each other,\n",
      "Sentence 5: We haven't got Father, and shall not have him for a long time.\n"
     ]
    }
   ],
   "source": [
    "# YOUR CODE HERE\n",
    "pattern = r'\"(.*?)\"'\n",
    "spokenDialog = re.findall(pattern, text)\n",
    "\n",
    "for i, dialog in enumerate(spokenDialog, 1):\n",
    "    print(f'Sentence {i}: {dialog}')"
   ]
  },
  {
   "cell_type": "markdown",
   "id": "424b965d",
   "metadata": {},
   "source": [
    "## Exercise 4"
   ]
  },
  {
   "cell_type": "markdown",
   "id": "34fed229",
   "metadata": {},
   "source": [
    "In this exercise, you you working with ```email_test.txt``` file (attached), using Regular Expression. \n",
    "1. Extract name and email address of sender  \n",
    "Output should be something like this\n",
    "\n",
    "<u>**Noted**</u>: If the email don't have name, you can skip this it.\n",
    "```\n",
    "Name:\n",
    "\"MR. JAMES NGOLA.\" \n",
    "\"Mr. Ben Suleman\" \n",
    "\"PRINCE OBONG ELEME\" \n",
    "\"PRINCE OBONG ELEME\" \n",
    "\"Maryam Abacha\" \n",
    "```\n",
    "```\n",
    "Email address:\n",
    "\"james_ngola2002@maktoob.com\"\n",
    "\"bensul2004nng@spinfinder.com\"\n",
    "\"obong_715@epatra.com\"\n",
    "\"obong_715@epatra.com\"\n",
    "\"m_abacha03@www.com\"\n",
    "```\n",
    "2. Find SUBJECT of All email with Date from 01/06/2003 to 13/05/2004 </br>\n",
    "<u>**Noted**</u>:\n",
    "- If the email don't have Date, you can skip this it.\n",
    "- SUBJECT may appear before or after Date "
   ]
  },
  {
   "cell_type": "code",
   "execution_count": 5,
   "id": "c2f0b2da",
   "metadata": {},
   "outputs": [],
   "source": [
    "import re\n",
    "import datetime \n",
    "fh = open(r\"Data/email_test.txt\", \"r\", encoding=\"utf8\").read()\n",
    "# YOUR CODE HERE\n",
    "# 1. Extract name and email address of sender\n",
    "Name =[]\n",
    "Email = []\n",
    "namePattern = r'From:\\s+\"(.*?)\"\\s+<.*?>'\n",
    "emailPattern = r'From:\\s+\".*?\"\\s+<(.+?)>'\n",
    "\n",
    "senderNames = re.findall(namePattern, fh)\n",
    "senderEmails = re.findall(emailPattern, fh)\n",
    "\n",
    "for (name, email) in zip(senderNames, senderEmails):\n",
    "    Name.append(name)\n",
    "    Email.append(email)\n",
    "# 2. Find SUBJECT of All email from 01/06/2003 to 13/05/2004\n",
    "Subject = []\n",
    "EmailDate = []\n",
    "emails = re.split(r'From r', fh)\n",
    "\n",
    "\n",
    "datePattern = r'\\b\\d{1,2} \\w{3} \\d{4}\\b'\n",
    "subjectPattern = r'Subject:\\s+(.*?)\\n'\n",
    "\n",
    "\n",
    "startDate = datetime.datetime.strptime(\"01/06/2003\", \"%d/%m/%Y\")\n",
    "endDate = datetime.datetime.strptime(\"13/05/2004\", \"%d/%m/%Y\")\n",
    "for email in emails:\n",
    "    dateMatch = re.search(datePattern, email)\n",
    "    if dateMatch:\n",
    "        emailDate = datetime.datetime.strptime(dateMatch.group(0), \"%d %b %Y\")\n",
    "        if startDate <= emailDate <= endDate:\n",
    "            subjectMatch = re.search(subjectPattern, email)\n",
    "            if subjectMatch:\n",
    "                Subject.append(subjectMatch.group(1))\n",
    "                EmailDate.append(emailDate)"
   ]
  }
 ],
 "metadata": {
  "kernelspec": {
   "display_name": "Python 3 (ipykernel)",
   "language": "python",
   "name": "python3"
  },
  "language_info": {
   "codemirror_mode": {
    "name": "ipython",
    "version": 3
   },
   "file_extension": ".py",
   "mimetype": "text/x-python",
   "name": "python",
   "nbconvert_exporter": "python",
   "pygments_lexer": "ipython3",
   "version": "3.11.2"
  }
 },
 "nbformat": 4,
 "nbformat_minor": 5
}
